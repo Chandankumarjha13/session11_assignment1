{
 "cells": [
  {
   "cell_type": "markdown",
   "metadata": {},
   "source": [
    "# 11.STATISTICS - 1- Assignment-1"
   ]
  },
  {
   "cell_type": "markdown",
   "metadata": {},
   "source": [
    "# Problem Statement 1: \n",
    "You survey households in your area to find the average rent they are paying. Find the standard deviation from the following data:\n",
    "\n",
    "$1550, $1700, $900, $850, $1000, $950."
   ]
  },
  {
   "cell_type": "code",
   "execution_count": 6,
   "metadata": {},
   "outputs": [
    {
     "name": "stdout",
     "output_type": "stream",
     "text": [
      "Mean = 1158.3333333333333\n",
      "variance =135416.6666666667\n",
      "Standard Deviation =367.99003609699366\n"
     ]
    }
   ],
   "source": [
    "from math import sqrt\n",
    "def findMean(rentList):\n",
    "    return sum(rentList)/len(rentList)\n",
    "\n",
    "def findVariance(rentList):\n",
    "    variance = 0.0\n",
    "    mean = findMean(rentList)\n",
    "    variance = sum((rent - mean)**2 for rent in rentList) / (len(rentList)-1)\n",
    "    return variance\n",
    "\n",
    "def findStandardDeviation(rentList):\n",
    "    return findVariance(rentList)**0.5\n",
    "\n",
    "rentList = [1550,1700,900,850,1000,950]\n",
    "\n",
    "\n",
    "print (\"Mean = \" + str(findMean(rentList)))\n",
    "print (\"variance =\" + str(findVariance(rentList)))\n",
    "print(\"Standard Deviation =\" + str(findStandardDeviation(rentList)))\n"
   ]
  },
  {
   "cell_type": "markdown",
   "metadata": {},
   "source": [
    "Output:\n",
    "Mean = 1158.3333333333333\n",
    "variance =135416.6666666667\n",
    "Standard Deviation =367.99003609699366"
   ]
  },
  {
   "cell_type": "markdown",
   "metadata": {},
   "source": [
    "# Problem Statement 2:\n",
    "Find the variance for the following set of data representing trees in California (heights in\n",
    "feet):\n",
    "3, 21, 98, 203, 17, 9"
   ]
  },
  {
   "cell_type": "code",
   "execution_count": 7,
   "metadata": {},
   "outputs": [
    {
     "name": "stdout",
     "output_type": "stream",
     "text": [
      "variance =6219.9\n"
     ]
    }
   ],
   "source": [
    "treeHeightList = [3, 21, 98, 203, 17, 9]\n",
    "\n",
    "\n",
    "print (\"variance =\" + str(findVariance(treeHeightList)))\n"
   ]
  },
  {
   "cell_type": "markdown",
   "metadata": {},
   "source": [
    "Output:\n",
    "variance =6219.9"
   ]
  },
  {
   "cell_type": "markdown",
   "metadata": {},
   "source": [
    "# Problem Statement 3:\n",
    "In a class on 100 students, 80 students passed in all subjects, 10 failed in one subject, 7\n",
    "failed in two subjects and 3 failed in three subjects. Find the probability distribution of\n",
    "the variable for number of subjects a student from the given class has failed in."
   ]
  },
  {
   "cell_type": "markdown",
   "metadata": {},
   "source": [
    "#Solution\n",
    "\n",
    "For a random student, \n",
    "\n",
    "The probability of failing in 0 subjects, P(X=0) = 0.8\n",
    "\n",
    "The probability of failing in 1 subjects, P(X=1) = 0.1\n",
    "\n",
    "The probability of failing in 2 subjects, P(X=2) = 0.07\n",
    "\n",
    "The probability of failing in 3 subjects, P(X=3) = 0.03\n",
    "\n",
    "The probability distribution can be shown as:\n",
    "    \n",
    "    X      0,1,2,3\n",
    "    P(X)   0.8, 0.1,0.07,0.03\n",
    "\n"
   ]
  }
 ],
 "metadata": {
  "kernelspec": {
   "display_name": "Python 3",
   "language": "python",
   "name": "python3"
  },
  "language_info": {
   "codemirror_mode": {
    "name": "ipython",
    "version": 3
   },
   "file_extension": ".py",
   "mimetype": "text/x-python",
   "name": "python",
   "nbconvert_exporter": "python",
   "pygments_lexer": "ipython3",
   "version": "3.6.4"
  }
 },
 "nbformat": 4,
 "nbformat_minor": 2
}
